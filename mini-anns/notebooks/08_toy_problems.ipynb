{
  "cells": [
    {
      "cell_type": "markdown",
      "metadata": {},
      "source": [
        "# 08. Toy Problems\n",
        "\n",
        "This notebook solves classic machine learning problems with minimal networks.\n",
        "\n",
        "## Experiment Overview\n",
        "- **Goal**: Solve classic ML problems with minimal networks\n",
        "- **Model**: Various architectures (XOR, spiral, moons)\n",
        "- **Features**: Decision boundary visualization, convergence analysis\n",
        "- **Learning**: Understanding fundamental ML concepts\n",
        "\n",
        "## What You'll Learn\n",
        "- XOR problem solving\n",
        "- Non-linear decision boundaries\n",
        "- Spiral and moons datasets\n",
        "- Network capacity vs. problem complexity\n"
      ]
    }
  ],
  "metadata": {
    "language_info": {
      "name": "python"
    }
  },
  "nbformat": 4,
  "nbformat_minor": 2
}
