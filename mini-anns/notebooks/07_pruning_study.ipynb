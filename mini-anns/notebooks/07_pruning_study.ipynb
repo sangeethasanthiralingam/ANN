{
  "cells": [
    {
      "cell_type": "markdown",
      "metadata": {},
      "source": [
        "# 07. Pruning Study\n",
        "\n",
        "This notebook explores network pruning techniques to reduce model size.\n",
        "\n",
        "## Experiment Overview\n",
        "- **Goal**: Explore network pruning techniques\n",
        "- **Model**: Prunable MLP with magnitude-based pruning\n",
        "- **Features**: Pruning schedules, sparsity analysis, accuracy vs. compression\n",
        "- **Learning**: Understanding model compression and efficiency\n",
        "\n",
        "## What You'll Learn\n",
        "- Network pruning techniques\n",
        "- Magnitude-based pruning\n",
        "- Pruning schedules\n",
        "- Accuracy vs. compression trade-offs\n"
      ]
    },
    {
      "cell_type": "code",
      "execution_count": null,
      "metadata": {},
      "outputs": [],
      "source": [
        "# Import necessary libraries\n",
        "import torch\n",
        "import torch.nn as nn\n",
        "import torch.optim as optim\n",
        "import torch.nn.functional as F\n",
        "import matplotlib.pyplot as plt\n",
        "import numpy as np\n",
        "import sys\n",
        "import os\n",
        "\n",
        "# Add scripts directory to path\n",
        "sys.path.append('../scripts')\n",
        "from utils import load_mnist_data, get_device, set_seed\n",
        "\n",
        "# Set random seed for reproducibility\n",
        "set_seed(42)\n",
        "\n",
        "# Get device\n",
        "device = get_device()\n",
        "print(f\"Using device: {device}\")\n",
        "\n",
        "# Load MNIST dataset\n",
        "print(\"Loading MNIST dataset...\")\n",
        "train_loader, val_loader, test_loader = load_mnist_data(batch_size=64, test_split=0.2)\n",
        "\n",
        "print(f\"Training samples: {len(train_loader.dataset)}\")\n",
        "print(f\"Validation samples: {len(val_loader.dataset)}\")\n",
        "print(f\"Test samples: {len(test_loader.dataset)}\")\n"
      ]
    }
  ],
  "metadata": {
    "language_info": {
      "name": "python"
    }
  },
  "nbformat": 4,
  "nbformat_minor": 2
}
